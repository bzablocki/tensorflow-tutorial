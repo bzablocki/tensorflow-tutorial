{
 "cells": [
  {
   "cell_type": "markdown",
   "metadata": {},
   "source": [
    "# Regression Exercise - Solutions\n",
    "\n",
    "California Housing Data\n",
    "\n",
    "This data set contains information about all the block groups in California from the 1990 Census. In this sample a block group on average includes 1425.5 individuals living in a geographically compact area. \n",
    "\n",
    "The task is to aproximate the median house value of each block from the values of the rest of the variables. \n",
    "\n",
    " It has been obtained from the LIACC repository. The original page where the data set can be found is: http://www.liaad.up.pt/~ltorgo/Regression/DataSets.html.\n",
    " "
   ]
  },
  {
   "cell_type": "markdown",
   "metadata": {
    "collapsed": true
   },
   "source": [
    "The Features:\n",
    " \n",
    "* housingMedianAge: continuous. \n",
    "* totalRooms: continuous. \n",
    "* totalBedrooms: continuous. \n",
    "* population: continuous. \n",
    "* households: continuous. \n",
    "* medianIncome: continuous. \n",
    "* medianHouseValue: continuous. "
   ]
  },
  {
   "cell_type": "markdown",
   "metadata": {},
   "source": [
    "## The Data"
   ]
  },
  {
   "cell_type": "markdown",
   "metadata": {},
   "source": [
    "** Import the cal_housing.csv file with pandas. Separate it into a training (70%) and testing set(30%).**"
   ]
  },
  {
   "cell_type": "code",
   "execution_count": 1,
   "metadata": {
    "collapsed": true
   },
   "outputs": [],
   "source": [
    "import pandas as pd"
   ]
  },
  {
   "cell_type": "code",
   "execution_count": 2,
   "metadata": {
    "collapsed": true
   },
   "outputs": [],
   "source": [
    "housing = pd.read_csv('cal_housing_clean.csv')"
   ]
  },
  {
   "cell_type": "code",
   "execution_count": 3,
   "metadata": {},
   "outputs": [
    {
     "data": {
      "text/html": [
       "<div>\n",
       "<style>\n",
       "    .dataframe thead tr:only-child th {\n",
       "        text-align: right;\n",
       "    }\n",
       "\n",
       "    .dataframe thead th {\n",
       "        text-align: left;\n",
       "    }\n",
       "\n",
       "    .dataframe tbody tr th {\n",
       "        vertical-align: top;\n",
       "    }\n",
       "</style>\n",
       "<table border=\"1\" class=\"dataframe\">\n",
       "  <thead>\n",
       "    <tr style=\"text-align: right;\">\n",
       "      <th></th>\n",
       "      <th>housingMedianAge</th>\n",
       "      <th>totalRooms</th>\n",
       "      <th>totalBedrooms</th>\n",
       "      <th>population</th>\n",
       "      <th>households</th>\n",
       "      <th>medianIncome</th>\n",
       "      <th>medianHouseValue</th>\n",
       "    </tr>\n",
       "  </thead>\n",
       "  <tbody>\n",
       "    <tr>\n",
       "      <th>0</th>\n",
       "      <td>41.0</td>\n",
       "      <td>880.0</td>\n",
       "      <td>129.0</td>\n",
       "      <td>322.0</td>\n",
       "      <td>126.0</td>\n",
       "      <td>8.3252</td>\n",
       "      <td>452600.0</td>\n",
       "    </tr>\n",
       "    <tr>\n",
       "      <th>1</th>\n",
       "      <td>21.0</td>\n",
       "      <td>7099.0</td>\n",
       "      <td>1106.0</td>\n",
       "      <td>2401.0</td>\n",
       "      <td>1138.0</td>\n",
       "      <td>8.3014</td>\n",
       "      <td>358500.0</td>\n",
       "    </tr>\n",
       "    <tr>\n",
       "      <th>2</th>\n",
       "      <td>52.0</td>\n",
       "      <td>1467.0</td>\n",
       "      <td>190.0</td>\n",
       "      <td>496.0</td>\n",
       "      <td>177.0</td>\n",
       "      <td>7.2574</td>\n",
       "      <td>352100.0</td>\n",
       "    </tr>\n",
       "    <tr>\n",
       "      <th>3</th>\n",
       "      <td>52.0</td>\n",
       "      <td>1274.0</td>\n",
       "      <td>235.0</td>\n",
       "      <td>558.0</td>\n",
       "      <td>219.0</td>\n",
       "      <td>5.6431</td>\n",
       "      <td>341300.0</td>\n",
       "    </tr>\n",
       "    <tr>\n",
       "      <th>4</th>\n",
       "      <td>52.0</td>\n",
       "      <td>1627.0</td>\n",
       "      <td>280.0</td>\n",
       "      <td>565.0</td>\n",
       "      <td>259.0</td>\n",
       "      <td>3.8462</td>\n",
       "      <td>342200.0</td>\n",
       "    </tr>\n",
       "  </tbody>\n",
       "</table>\n",
       "</div>"
      ],
      "text/plain": [
       "   housingMedianAge  totalRooms  totalBedrooms  population  households  \\\n",
       "0              41.0       880.0          129.0       322.0       126.0   \n",
       "1              21.0      7099.0         1106.0      2401.0      1138.0   \n",
       "2              52.0      1467.0          190.0       496.0       177.0   \n",
       "3              52.0      1274.0          235.0       558.0       219.0   \n",
       "4              52.0      1627.0          280.0       565.0       259.0   \n",
       "\n",
       "   medianIncome  medianHouseValue  \n",
       "0        8.3252          452600.0  \n",
       "1        8.3014          358500.0  \n",
       "2        7.2574          352100.0  \n",
       "3        5.6431          341300.0  \n",
       "4        3.8462          342200.0  "
      ]
     },
     "execution_count": 3,
     "metadata": {},
     "output_type": "execute_result"
    }
   ],
   "source": [
    "housing.head()"
   ]
  },
  {
   "cell_type": "code",
   "execution_count": 4,
   "metadata": {},
   "outputs": [
    {
     "data": {
      "text/html": [
       "<div>\n",
       "<style>\n",
       "    .dataframe thead tr:only-child th {\n",
       "        text-align: right;\n",
       "    }\n",
       "\n",
       "    .dataframe thead th {\n",
       "        text-align: left;\n",
       "    }\n",
       "\n",
       "    .dataframe tbody tr th {\n",
       "        vertical-align: top;\n",
       "    }\n",
       "</style>\n",
       "<table border=\"1\" class=\"dataframe\">\n",
       "  <thead>\n",
       "    <tr style=\"text-align: right;\">\n",
       "      <th></th>\n",
       "      <th>count</th>\n",
       "      <th>mean</th>\n",
       "      <th>std</th>\n",
       "      <th>min</th>\n",
       "      <th>25%</th>\n",
       "      <th>50%</th>\n",
       "      <th>75%</th>\n",
       "      <th>max</th>\n",
       "    </tr>\n",
       "  </thead>\n",
       "  <tbody>\n",
       "    <tr>\n",
       "      <th>housingMedianAge</th>\n",
       "      <td>20640.0</td>\n",
       "      <td>28.639486</td>\n",
       "      <td>12.585558</td>\n",
       "      <td>1.0000</td>\n",
       "      <td>18.0000</td>\n",
       "      <td>29.0000</td>\n",
       "      <td>37.00000</td>\n",
       "      <td>52.0000</td>\n",
       "    </tr>\n",
       "    <tr>\n",
       "      <th>totalRooms</th>\n",
       "      <td>20640.0</td>\n",
       "      <td>2635.763081</td>\n",
       "      <td>2181.615252</td>\n",
       "      <td>2.0000</td>\n",
       "      <td>1447.7500</td>\n",
       "      <td>2127.0000</td>\n",
       "      <td>3148.00000</td>\n",
       "      <td>39320.0000</td>\n",
       "    </tr>\n",
       "    <tr>\n",
       "      <th>totalBedrooms</th>\n",
       "      <td>20640.0</td>\n",
       "      <td>537.898014</td>\n",
       "      <td>421.247906</td>\n",
       "      <td>1.0000</td>\n",
       "      <td>295.0000</td>\n",
       "      <td>435.0000</td>\n",
       "      <td>647.00000</td>\n",
       "      <td>6445.0000</td>\n",
       "    </tr>\n",
       "    <tr>\n",
       "      <th>population</th>\n",
       "      <td>20640.0</td>\n",
       "      <td>1425.476744</td>\n",
       "      <td>1132.462122</td>\n",
       "      <td>3.0000</td>\n",
       "      <td>787.0000</td>\n",
       "      <td>1166.0000</td>\n",
       "      <td>1725.00000</td>\n",
       "      <td>35682.0000</td>\n",
       "    </tr>\n",
       "    <tr>\n",
       "      <th>households</th>\n",
       "      <td>20640.0</td>\n",
       "      <td>499.539680</td>\n",
       "      <td>382.329753</td>\n",
       "      <td>1.0000</td>\n",
       "      <td>280.0000</td>\n",
       "      <td>409.0000</td>\n",
       "      <td>605.00000</td>\n",
       "      <td>6082.0000</td>\n",
       "    </tr>\n",
       "    <tr>\n",
       "      <th>medianIncome</th>\n",
       "      <td>20640.0</td>\n",
       "      <td>3.870671</td>\n",
       "      <td>1.899822</td>\n",
       "      <td>0.4999</td>\n",
       "      <td>2.5634</td>\n",
       "      <td>3.5348</td>\n",
       "      <td>4.74325</td>\n",
       "      <td>15.0001</td>\n",
       "    </tr>\n",
       "    <tr>\n",
       "      <th>medianHouseValue</th>\n",
       "      <td>20640.0</td>\n",
       "      <td>206855.816909</td>\n",
       "      <td>115395.615874</td>\n",
       "      <td>14999.0000</td>\n",
       "      <td>119600.0000</td>\n",
       "      <td>179700.0000</td>\n",
       "      <td>264725.00000</td>\n",
       "      <td>500001.0000</td>\n",
       "    </tr>\n",
       "  </tbody>\n",
       "</table>\n",
       "</div>"
      ],
      "text/plain": [
       "                    count           mean            std         min  \\\n",
       "housingMedianAge  20640.0      28.639486      12.585558      1.0000   \n",
       "totalRooms        20640.0    2635.763081    2181.615252      2.0000   \n",
       "totalBedrooms     20640.0     537.898014     421.247906      1.0000   \n",
       "population        20640.0    1425.476744    1132.462122      3.0000   \n",
       "households        20640.0     499.539680     382.329753      1.0000   \n",
       "medianIncome      20640.0       3.870671       1.899822      0.4999   \n",
       "medianHouseValue  20640.0  206855.816909  115395.615874  14999.0000   \n",
       "\n",
       "                          25%          50%           75%          max  \n",
       "housingMedianAge      18.0000      29.0000      37.00000      52.0000  \n",
       "totalRooms          1447.7500    2127.0000    3148.00000   39320.0000  \n",
       "totalBedrooms        295.0000     435.0000     647.00000    6445.0000  \n",
       "population           787.0000    1166.0000    1725.00000   35682.0000  \n",
       "households           280.0000     409.0000     605.00000    6082.0000  \n",
       "medianIncome           2.5634       3.5348       4.74325      15.0001  \n",
       "medianHouseValue  119600.0000  179700.0000  264725.00000  500001.0000  "
      ]
     },
     "execution_count": 4,
     "metadata": {},
     "output_type": "execute_result"
    }
   ],
   "source": [
    "housing.describe().transpose()"
   ]
  },
  {
   "cell_type": "code",
   "execution_count": 5,
   "metadata": {
    "collapsed": true,
    "scrolled": true
   },
   "outputs": [],
   "source": [
    "x_data = housing.drop(['medianHouseValue'],axis=1)"
   ]
  },
  {
   "cell_type": "code",
   "execution_count": 6,
   "metadata": {
    "collapsed": true
   },
   "outputs": [],
   "source": [
    "y_val = housing['medianHouseValue']"
   ]
  },
  {
   "cell_type": "code",
   "execution_count": 7,
   "metadata": {
    "collapsed": true
   },
   "outputs": [],
   "source": [
    "from sklearn.model_selection import train_test_split"
   ]
  },
  {
   "cell_type": "code",
   "execution_count": 8,
   "metadata": {
    "collapsed": true
   },
   "outputs": [],
   "source": [
    "X_train, X_test, y_train, y_test = train_test_split(x_data,y_val,test_size=0.3,random_state=101)"
   ]
  },
  {
   "cell_type": "markdown",
   "metadata": {},
   "source": [
    "### Scale the Feature Data\n",
    "\n",
    "** Use sklearn preprocessing to create a MinMaxScaler for the feature data. Fit this scaler only to the training data. Then use it to transform X_test and X_train. Then use the scaled X_test and X_train along with pd.Dataframe to re-create two dataframes of scaled data.**"
   ]
  },
  {
   "cell_type": "code",
   "execution_count": 9,
   "metadata": {
    "collapsed": true
   },
   "outputs": [],
   "source": [
    "from sklearn.preprocessing import MinMaxScaler"
   ]
  },
  {
   "cell_type": "code",
   "execution_count": 10,
   "metadata": {
    "collapsed": true
   },
   "outputs": [],
   "source": [
    "scaler = MinMaxScaler()"
   ]
  },
  {
   "cell_type": "code",
   "execution_count": 11,
   "metadata": {},
   "outputs": [
    {
     "data": {
      "text/plain": [
       "MinMaxScaler(copy=True, feature_range=(0, 1))"
      ]
     },
     "execution_count": 11,
     "metadata": {},
     "output_type": "execute_result"
    }
   ],
   "source": [
    "scaler.fit(X_train)"
   ]
  },
  {
   "cell_type": "code",
   "execution_count": 12,
   "metadata": {
    "collapsed": true
   },
   "outputs": [],
   "source": [
    "X_train = pd.DataFrame(data=scaler.transform(X_train),columns = X_train.columns,index=X_train.index)"
   ]
  },
  {
   "cell_type": "code",
   "execution_count": 13,
   "metadata": {
    "collapsed": true
   },
   "outputs": [],
   "source": [
    "X_test = pd.DataFrame(data=scaler.transform(X_test),columns = X_test.columns,index=X_test.index)"
   ]
  },
  {
   "cell_type": "markdown",
   "metadata": {},
   "source": [
    "### Create Feature Columns\n",
    "\n",
    "** Create the necessary tf.feature_column objects for the estimator. They should all be trated as continuous numeric_columns. **"
   ]
  },
  {
   "cell_type": "code",
   "execution_count": 14,
   "metadata": {},
   "outputs": [
    {
     "data": {
      "text/plain": [
       "Index(['housingMedianAge', 'totalRooms', 'totalBedrooms', 'population',\n",
       "       'households', 'medianIncome', 'medianHouseValue'],\n",
       "      dtype='object')"
      ]
     },
     "execution_count": 14,
     "metadata": {},
     "output_type": "execute_result"
    }
   ],
   "source": [
    "housing.columns"
   ]
  },
  {
   "cell_type": "code",
   "execution_count": 15,
   "metadata": {
    "collapsed": true
   },
   "outputs": [],
   "source": [
    "import tensorflow as tf"
   ]
  },
  {
   "cell_type": "code",
   "execution_count": 16,
   "metadata": {
    "collapsed": true
   },
   "outputs": [],
   "source": [
    "age = tf.feature_column.numeric_column('housingMedianAge')\n",
    "rooms = tf.feature_column.numeric_column('totalRooms')\n",
    "bedrooms = tf.feature_column.numeric_column('totalBedrooms')\n",
    "pop = tf.feature_column.numeric_column('population')\n",
    "households = tf.feature_column.numeric_column('households')\n",
    "income = tf.feature_column.numeric_column('medianIncome')"
   ]
  },
  {
   "cell_type": "code",
   "execution_count": 17,
   "metadata": {
    "collapsed": true
   },
   "outputs": [],
   "source": [
    "feat_cols = [ age,rooms,bedrooms,pop,households,income]"
   ]
  },
  {
   "cell_type": "markdown",
   "metadata": {},
   "source": [
    "** Create the input function for the estimator object. (play around with batch_size and num_epochs)**"
   ]
  },
  {
   "cell_type": "code",
   "execution_count": 18,
   "metadata": {
    "collapsed": true
   },
   "outputs": [],
   "source": [
    "input_func = tf.estimator.inputs.pandas_input_fn(x=X_train,y=y_train ,batch_size=10,num_epochs=1000,\n",
    "                                            shuffle=True)"
   ]
  },
  {
   "cell_type": "markdown",
   "metadata": {},
   "source": [
    "** Create the estimator model. Use a DNNRegressor. Play around with the hidden units! **"
   ]
  },
  {
   "cell_type": "code",
   "execution_count": 27,
   "metadata": {},
   "outputs": [
    {
     "name": "stdout",
     "output_type": "stream",
     "text": [
      "INFO:tensorflow:Using default config.\n",
      "WARNING:tensorflow:Using temporary folder as model directory: C:\\Users\\motos\\AppData\\Local\\Temp\\tmp9gilymkm\n",
      "INFO:tensorflow:Using config: {'_log_step_count_steps': 100, '_model_dir': 'C:\\\\Users\\\\motos\\\\AppData\\\\Local\\\\Temp\\\\tmp9gilymkm', '_tf_random_seed': 1, '_save_checkpoints_steps': None, '_save_checkpoints_secs': 600, '_keep_checkpoint_every_n_hours': 10000, '_save_summary_steps': 100, '_session_config': None, '_keep_checkpoint_max': 5}\n"
     ]
    }
   ],
   "source": [
    "model = tf.estimator.DNNRegressor(hidden_units=[6,6,6],feature_columns=feat_cols)"
   ]
  },
  {
   "cell_type": "markdown",
   "metadata": {},
   "source": [
    "##### ** Train the model for ~1,000 steps. (Later come back to this and train it for more and check for improvement) **"
   ]
  },
  {
   "cell_type": "code",
   "execution_count": 20,
   "metadata": {},
   "outputs": [
    {
     "name": "stdout",
     "output_type": "stream",
     "text": [
      "INFO:tensorflow:Create CheckpointSaverHook.\n",
      "INFO:tensorflow:Saving checkpoints for 1 into C:\\Users\\motos\\AppData\\Local\\Temp\\tmp92jcktzl\\model.ckpt.\n",
      "INFO:tensorflow:step = 1, loss = 8.45692e+11\n",
      "INFO:tensorflow:global_step/sec: 387.915\n",
      "INFO:tensorflow:step = 101, loss = 7.0186e+11 (0.264 sec)\n",
      "INFO:tensorflow:global_step/sec: 485.16\n",
      "INFO:tensorflow:step = 201, loss = 2.71104e+11 (0.207 sec)\n",
      "INFO:tensorflow:global_step/sec: 474.811\n",
      "INFO:tensorflow:step = 301, loss = 7.1796e+11 (0.208 sec)\n",
      "INFO:tensorflow:global_step/sec: 504.716\n",
      "INFO:tensorflow:step = 401, loss = 5.80009e+11 (0.197 sec)\n",
      "INFO:tensorflow:global_step/sec: 530.083\n",
      "INFO:tensorflow:step = 501, loss = 7.12521e+11 (0.188 sec)\n",
      "INFO:tensorflow:global_step/sec: 508.555\n",
      "INFO:tensorflow:step = 601, loss = 8.17459e+11 (0.201 sec)\n",
      "INFO:tensorflow:global_step/sec: 368.33\n",
      "INFO:tensorflow:step = 701, loss = 4.31908e+11 (0.273 sec)\n",
      "INFO:tensorflow:global_step/sec: 428.145\n",
      "INFO:tensorflow:step = 801, loss = 4.1744e+11 (0.230 sec)\n",
      "INFO:tensorflow:global_step/sec: 498.435\n",
      "INFO:tensorflow:step = 901, loss = 1.40774e+11 (0.201 sec)\n",
      "INFO:tensorflow:global_step/sec: 462.751\n",
      "INFO:tensorflow:step = 1001, loss = 3.42216e+11 (0.218 sec)\n",
      "INFO:tensorflow:global_step/sec: 285.024\n",
      "INFO:tensorflow:step = 1101, loss = 1.354e+11 (0.350 sec)\n",
      "INFO:tensorflow:global_step/sec: 512.455\n",
      "INFO:tensorflow:step = 1201, loss = 4.09638e+11 (0.194 sec)\n",
      "INFO:tensorflow:global_step/sec: 388.305\n",
      "INFO:tensorflow:step = 1301, loss = 1.62338e+11 (0.261 sec)\n",
      "INFO:tensorflow:global_step/sec: 327.413\n",
      "INFO:tensorflow:step = 1401, loss = 2.18674e+11 (0.309 sec)\n",
      "INFO:tensorflow:global_step/sec: 402.353\n",
      "INFO:tensorflow:step = 1501, loss = 7.74496e+10 (0.239 sec)\n",
      "INFO:tensorflow:global_step/sec: 493.526\n",
      "INFO:tensorflow:step = 1601, loss = 1.77543e+11 (0.202 sec)\n",
      "INFO:tensorflow:global_step/sec: 376.638\n",
      "INFO:tensorflow:step = 1701, loss = 1.87537e+11 (0.279 sec)\n",
      "INFO:tensorflow:global_step/sec: 415.709\n",
      "INFO:tensorflow:step = 1801, loss = 6.36547e+10 (0.233 sec)\n",
      "INFO:tensorflow:global_step/sec: 494.743\n",
      "INFO:tensorflow:step = 1901, loss = 4.35836e+10 (0.199 sec)\n",
      "INFO:tensorflow:global_step/sec: 508.556\n",
      "INFO:tensorflow:step = 2001, loss = 1.68677e+11 (0.198 sec)\n",
      "INFO:tensorflow:global_step/sec: 479.357\n",
      "INFO:tensorflow:step = 2101, loss = 1.17167e+11 (0.214 sec)\n",
      "INFO:tensorflow:global_step/sec: 360.381\n",
      "INFO:tensorflow:step = 2201, loss = 2.50598e+11 (0.272 sec)\n",
      "INFO:tensorflow:global_step/sec: 452.306\n",
      "INFO:tensorflow:step = 2301, loss = 1.80151e+11 (0.219 sec)\n",
      "INFO:tensorflow:global_step/sec: 475.941\n",
      "INFO:tensorflow:step = 2401, loss = 8.86767e+10 (0.211 sec)\n",
      "INFO:tensorflow:global_step/sec: 494.745\n",
      "INFO:tensorflow:step = 2501, loss = 2.36212e+11 (0.201 sec)\n",
      "INFO:tensorflow:global_step/sec: 532.902\n",
      "INFO:tensorflow:step = 2601, loss = 1.42064e+11 (0.191 sec)\n",
      "INFO:tensorflow:global_step/sec: 497.199\n",
      "INFO:tensorflow:step = 2701, loss = 1.23787e+11 (0.203 sec)\n",
      "INFO:tensorflow:global_step/sec: 473.69\n",
      "INFO:tensorflow:step = 2801, loss = 5.945e+10 (0.208 sec)\n",
      "INFO:tensorflow:global_step/sec: 494.745\n",
      "INFO:tensorflow:step = 2901, loss = 6.31812e+10 (0.202 sec)\n",
      "INFO:tensorflow:global_step/sec: 520.443\n",
      "INFO:tensorflow:step = 3001, loss = 1.75663e+11 (0.192 sec)\n",
      "INFO:tensorflow:global_step/sec: 508.556\n",
      "INFO:tensorflow:step = 3101, loss = 2.20914e+11 (0.196 sec)\n",
      "INFO:tensorflow:global_step/sec: 509.852\n",
      "INFO:tensorflow:step = 3201, loss = 1.3996e+11 (0.195 sec)\n",
      "INFO:tensorflow:global_step/sec: 503.444\n",
      "INFO:tensorflow:step = 3301, loss = 2.19502e+11 (0.200 sec)\n",
      "INFO:tensorflow:global_step/sec: 493.526\n",
      "INFO:tensorflow:step = 3401, loss = 8.84473e+10 (0.204 sec)\n",
      "INFO:tensorflow:global_step/sec: 503.446\n",
      "INFO:tensorflow:step = 3501, loss = 8.81655e+10 (0.197 sec)\n",
      "INFO:tensorflow:global_step/sec: 527.293\n",
      "INFO:tensorflow:step = 3601, loss = 4.46378e+10 (0.191 sec)\n",
      "INFO:tensorflow:global_step/sec: 500.925\n",
      "INFO:tensorflow:step = 3701, loss = 6.006e+10 (0.197 sec)\n",
      "INFO:tensorflow:global_step/sec: 534.327\n",
      "INFO:tensorflow:step = 3801, loss = 8.82724e+10 (0.188 sec)\n",
      "INFO:tensorflow:global_step/sec: 509.85\n",
      "INFO:tensorflow:step = 3901, loss = 1.50606e+11 (0.199 sec)\n",
      "INFO:tensorflow:global_step/sec: 519.096\n",
      "INFO:tensorflow:step = 4001, loss = 7.25973e+10 (0.193 sec)\n",
      "INFO:tensorflow:global_step/sec: 511.151\n",
      "INFO:tensorflow:step = 4101, loss = 1.07021e+11 (0.194 sec)\n",
      "INFO:tensorflow:global_step/sec: 498.437\n",
      "INFO:tensorflow:step = 4201, loss = 1.08381e+11 (0.208 sec)\n",
      "INFO:tensorflow:global_step/sec: 465.978\n",
      "INFO:tensorflow:step = 4301, loss = 4.27823e+10 (0.206 sec)\n",
      "INFO:tensorflow:global_step/sec: 491.105\n",
      "INFO:tensorflow:step = 4401, loss = 7.29265e+10 (0.207 sec)\n",
      "INFO:tensorflow:global_step/sec: 515.095\n",
      "INFO:tensorflow:step = 4501, loss = 6.82386e+10 (0.194 sec)\n",
      "INFO:tensorflow:global_step/sec: 504.713\n",
      "INFO:tensorflow:step = 4601, loss = 7.93875e+10 (0.198 sec)\n",
      "INFO:tensorflow:global_step/sec: 498.437\n",
      "INFO:tensorflow:step = 4701, loss = 1.10295e+11 (0.200 sec)\n",
      "INFO:tensorflow:global_step/sec: 505.987\n",
      "INFO:tensorflow:step = 4801, loss = 1.10034e+11 (0.203 sec)\n",
      "INFO:tensorflow:global_step/sec: 483.988\n",
      "INFO:tensorflow:step = 4901, loss = 2.00892e+11 (0.202 sec)\n",
      "INFO:tensorflow:global_step/sec: 503.446\n",
      "INFO:tensorflow:step = 5001, loss = 4.16071e+10 (0.196 sec)\n",
      "INFO:tensorflow:global_step/sec: 550.469\n",
      "INFO:tensorflow:step = 5101, loss = 1.1163e+11 (0.182 sec)\n",
      "INFO:tensorflow:global_step/sec: 515.094\n",
      "INFO:tensorflow:step = 5201, loss = 1.15304e+11 (0.196 sec)\n",
      "INFO:tensorflow:global_step/sec: 495.968\n",
      "INFO:tensorflow:step = 5301, loss = 1.05603e+11 (0.201 sec)\n",
      "INFO:tensorflow:global_step/sec: 489.905\n",
      "INFO:tensorflow:step = 5401, loss = 1.49573e+11 (0.206 sec)\n",
      "INFO:tensorflow:global_step/sec: 495.968\n",
      "INFO:tensorflow:step = 5501, loss = 1.02408e+11 (0.201 sec)\n",
      "INFO:tensorflow:global_step/sec: 508.558\n",
      "INFO:tensorflow:step = 5601, loss = 5.73264e+10 (0.195 sec)\n",
      "INFO:tensorflow:global_step/sec: 544.49\n",
      "INFO:tensorflow:step = 5701, loss = 1.91656e+11 (0.185 sec)\n",
      "INFO:tensorflow:global_step/sec: 494.743\n",
      "INFO:tensorflow:step = 5801, loss = 2.33214e+11 (0.206 sec)\n",
      "INFO:tensorflow:global_step/sec: 519.099\n",
      "INFO:tensorflow:step = 5901, loss = 1.11548e+11 (0.189 sec)\n",
      "INFO:tensorflow:global_step/sec: 558.134\n",
      "INFO:tensorflow:step = 6001, loss = 1.07349e+11 (0.179 sec)\n",
      "INFO:tensorflow:global_step/sec: 531.489\n",
      "INFO:tensorflow:step = 6101, loss = 1.69449e+11 (0.188 sec)\n",
      "INFO:tensorflow:global_step/sec: 584.175\n",
      "INFO:tensorflow:step = 6201, loss = 1.44809e+11 (0.172 sec)\n",
      "INFO:tensorflow:global_step/sec: 544.486\n",
      "INFO:tensorflow:step = 6301, loss = 8.61333e+10 (0.183 sec)\n",
      "INFO:tensorflow:global_step/sec: 509.848\n",
      "INFO:tensorflow:step = 6401, loss = 1.18833e+11 (0.195 sec)\n",
      "INFO:tensorflow:global_step/sec: 575.782\n",
      "INFO:tensorflow:step = 6501, loss = 7.21587e+10 (0.174 sec)\n",
      "INFO:tensorflow:global_step/sec: 537.187\n",
      "INFO:tensorflow:step = 6601, loss = 2.37365e+10 (0.186 sec)\n",
      "INFO:tensorflow:global_step/sec: 551.989\n",
      "INFO:tensorflow:step = 6701, loss = 1.26135e+11 (0.184 sec)\n",
      "INFO:tensorflow:global_step/sec: 523.164\n",
      "INFO:tensorflow:step = 6801, loss = 1.88592e+11 (0.188 sec)\n",
      "INFO:tensorflow:global_step/sec: 540.083\n",
      "INFO:tensorflow:step = 6901, loss = 1.00984e+11 (0.186 sec)\n",
      "INFO:tensorflow:global_step/sec: 534.325\n",
      "INFO:tensorflow:step = 7001, loss = 9.94938e+10 (0.188 sec)\n",
      "INFO:tensorflow:global_step/sec: 504.712\n",
      "INFO:tensorflow:step = 7101, loss = 8.72199e+10 (0.200 sec)\n",
      "INFO:tensorflow:global_step/sec: 516.424\n",
      "INFO:tensorflow:step = 7201, loss = 1.27947e+11 (0.191 sec)\n",
      "INFO:tensorflow:global_step/sec: 567.624\n",
      "INFO:tensorflow:step = 7301, loss = 6.67612e+10 (0.176 sec)\n",
      "INFO:tensorflow:global_step/sec: 454.355\n",
      "INFO:tensorflow:step = 7401, loss = 4.26813e+10 (0.225 sec)\n",
      "INFO:tensorflow:global_step/sec: 521.799\n",
      "INFO:tensorflow:step = 7501, loss = 8.57753e+10 (0.187 sec)\n",
      "INFO:tensorflow:global_step/sec: 535.757\n",
      "INFO:tensorflow:step = 7601, loss = 1.57876e+11 (0.191 sec)\n",
      "INFO:tensorflow:global_step/sec: 508.556\n",
      "INFO:tensorflow:step = 7701, loss = 1.50303e+11 (0.193 sec)\n",
      "INFO:tensorflow:global_step/sec: 537.188\n",
      "INFO:tensorflow:step = 7801, loss = 1.07129e+11 (0.187 sec)\n",
      "INFO:tensorflow:global_step/sec: 388.316\n",
      "INFO:tensorflow:step = 7901, loss = 1.2127e+11 (0.260 sec)\n",
      "INFO:tensorflow:global_step/sec: 555.043\n",
      "INFO:tensorflow:step = 8001, loss = 4.11267e+10 (0.179 sec)\n"
     ]
    },
    {
     "name": "stdout",
     "output_type": "stream",
     "text": [
      "INFO:tensorflow:global_step/sec: 502.186\n",
      "INFO:tensorflow:step = 8101, loss = 6.828e+10 (0.200 sec)\n",
      "INFO:tensorflow:global_step/sec: 505.987\n",
      "INFO:tensorflow:step = 8201, loss = 1.61578e+11 (0.194 sec)\n",
      "INFO:tensorflow:global_step/sec: 584.172\n",
      "INFO:tensorflow:step = 8301, loss = 7.65442e+10 (0.173 sec)\n",
      "INFO:tensorflow:global_step/sec: 511.151\n",
      "INFO:tensorflow:step = 8401, loss = 9.1115e+10 (0.195 sec)\n",
      "INFO:tensorflow:global_step/sec: 585.882\n",
      "INFO:tensorflow:step = 8501, loss = 1.18016e+11 (0.173 sec)\n",
      "INFO:tensorflow:global_step/sec: 509.851\n",
      "INFO:tensorflow:step = 8601, loss = 1.18082e+11 (0.194 sec)\n",
      "INFO:tensorflow:global_step/sec: 570.861\n",
      "INFO:tensorflow:step = 8701, loss = 8.38568e+10 (0.176 sec)\n",
      "INFO:tensorflow:global_step/sec: 592.814\n",
      "INFO:tensorflow:step = 8801, loss = 9.98221e+10 (0.167 sec)\n",
      "INFO:tensorflow:global_step/sec: 516.418\n",
      "INFO:tensorflow:step = 8901, loss = 3.08169e+10 (0.194 sec)\n",
      "INFO:tensorflow:global_step/sec: 553.513\n",
      "INFO:tensorflow:step = 9001, loss = 7.93876e+10 (0.184 sec)\n",
      "INFO:tensorflow:global_step/sec: 537.189\n",
      "INFO:tensorflow:step = 9101, loss = 1.00052e+11 (0.189 sec)\n",
      "INFO:tensorflow:global_step/sec: 524.532\n",
      "INFO:tensorflow:step = 9201, loss = 4.01913e+10 (0.186 sec)\n",
      "INFO:tensorflow:global_step/sec: 556.589\n",
      "INFO:tensorflow:step = 9301, loss = 5.94057e+10 (0.178 sec)\n",
      "INFO:tensorflow:global_step/sec: 559.694\n",
      "INFO:tensorflow:step = 9401, loss = 2.05035e+11 (0.180 sec)\n",
      "INFO:tensorflow:global_step/sec: 543.013\n",
      "INFO:tensorflow:step = 9501, loss = 4.25808e+10 (0.184 sec)\n",
      "INFO:tensorflow:global_step/sec: 574.129\n",
      "INFO:tensorflow:step = 9601, loss = 4.29742e+10 (0.176 sec)\n",
      "INFO:tensorflow:global_step/sec: 550.47\n",
      "INFO:tensorflow:step = 9701, loss = 4.99445e+10 (0.181 sec)\n",
      "INFO:tensorflow:global_step/sec: 553.511\n",
      "INFO:tensorflow:step = 9801, loss = 8.32141e+10 (0.180 sec)\n",
      "INFO:tensorflow:global_step/sec: 575.781\n",
      "INFO:tensorflow:step = 9901, loss = 1.21311e+11 (0.175 sec)\n",
      "INFO:tensorflow:global_step/sec: 545.969\n",
      "INFO:tensorflow:step = 10001, loss = 1.7669e+11 (0.181 sec)\n",
      "INFO:tensorflow:global_step/sec: 527.294\n",
      "INFO:tensorflow:step = 10101, loss = 1.29628e+11 (0.190 sec)\n",
      "INFO:tensorflow:global_step/sec: 556.587\n",
      "INFO:tensorflow:step = 10201, loss = 2.2615e+11 (0.180 sec)\n",
      "INFO:tensorflow:global_step/sec: 564.425\n",
      "INFO:tensorflow:step = 10301, loss = 1.05705e+11 (0.176 sec)\n",
      "INFO:tensorflow:global_step/sec: 515.093\n",
      "INFO:tensorflow:step = 10401, loss = 6.56906e+10 (0.195 sec)\n",
      "INFO:tensorflow:global_step/sec: 340.185\n",
      "INFO:tensorflow:step = 10501, loss = 1.43346e+11 (0.307 sec)\n",
      "INFO:tensorflow:global_step/sec: 434.651\n",
      "INFO:tensorflow:step = 10601, loss = 1.2163e+11 (0.217 sec)\n",
      "INFO:tensorflow:global_step/sec: 495.966\n",
      "INFO:tensorflow:step = 10701, loss = 1.33856e+11 (0.202 sec)\n",
      "INFO:tensorflow:global_step/sec: 537.192\n",
      "INFO:tensorflow:step = 10801, loss = 5.15617e+10 (0.186 sec)\n",
      "INFO:tensorflow:global_step/sec: 562.837\n",
      "INFO:tensorflow:step = 10901, loss = 2.23948e+11 (0.180 sec)\n",
      "INFO:tensorflow:global_step/sec: 335.07\n",
      "INFO:tensorflow:step = 11001, loss = 1.00573e+11 (0.306 sec)\n",
      "INFO:tensorflow:global_step/sec: 417.438\n",
      "INFO:tensorflow:step = 11101, loss = 9.85397e+10 (0.235 sec)\n",
      "INFO:tensorflow:global_step/sec: 528.686\n",
      "INFO:tensorflow:step = 11201, loss = 1.69664e+11 (0.185 sec)\n",
      "INFO:tensorflow:global_step/sec: 531.487\n",
      "INFO:tensorflow:step = 11301, loss = 1.03421e+11 (0.189 sec)\n",
      "INFO:tensorflow:global_step/sec: 567.625\n",
      "INFO:tensorflow:step = 11401, loss = 8.79235e+10 (0.176 sec)\n",
      "INFO:tensorflow:global_step/sec: 543.015\n",
      "INFO:tensorflow:step = 11501, loss = 9.71872e+10 (0.184 sec)\n",
      "INFO:tensorflow:global_step/sec: 524.532\n",
      "INFO:tensorflow:step = 11601, loss = 1.10136e+11 (0.192 sec)\n",
      "INFO:tensorflow:global_step/sec: 532.9\n",
      "INFO:tensorflow:step = 11701, loss = 1.55979e+11 (0.195 sec)\n",
      "INFO:tensorflow:global_step/sec: 332.291\n",
      "INFO:tensorflow:step = 11801, loss = 1.31979e+11 (0.294 sec)\n",
      "INFO:tensorflow:global_step/sec: 502.172\n",
      "INFO:tensorflow:step = 11901, loss = 8.69639e+10 (0.198 sec)\n",
      "INFO:tensorflow:global_step/sec: 442.329\n",
      "INFO:tensorflow:step = 12001, loss = 6.65907e+10 (0.228 sec)\n",
      "INFO:tensorflow:global_step/sec: 367.654\n",
      "INFO:tensorflow:step = 12101, loss = 1.15668e+11 (0.271 sec)\n",
      "INFO:tensorflow:global_step/sec: 513.773\n",
      "INFO:tensorflow:step = 12201, loss = 6.70849e+10 (0.193 sec)\n",
      "INFO:tensorflow:global_step/sec: 543.012\n",
      "INFO:tensorflow:step = 12301, loss = 7.44037e+10 (0.185 sec)\n",
      "INFO:tensorflow:global_step/sec: 569.236\n",
      "INFO:tensorflow:step = 12401, loss = 1.57001e+11 (0.177 sec)\n",
      "INFO:tensorflow:global_step/sec: 508.557\n",
      "INFO:tensorflow:step = 12501, loss = 1.18699e+11 (0.194 sec)\n",
      "INFO:tensorflow:global_step/sec: 538.634\n",
      "INFO:tensorflow:step = 12601, loss = 1.13586e+11 (0.186 sec)\n",
      "INFO:tensorflow:global_step/sec: 577.437\n",
      "INFO:tensorflow:step = 12701, loss = 1.79535e+11 (0.173 sec)\n",
      "INFO:tensorflow:global_step/sec: 521.802\n",
      "INFO:tensorflow:step = 12801, loss = 7.98778e+10 (0.192 sec)\n",
      "INFO:tensorflow:global_step/sec: 544.485\n",
      "INFO:tensorflow:step = 12901, loss = 1.51781e+11 (0.187 sec)\n",
      "INFO:tensorflow:global_step/sec: 528.685\n",
      "INFO:tensorflow:step = 13001, loss = 1.40448e+11 (0.186 sec)\n",
      "INFO:tensorflow:global_step/sec: 584.175\n",
      "INFO:tensorflow:step = 13101, loss = 1.79034e+11 (0.173 sec)\n",
      "INFO:tensorflow:global_step/sec: 535.751\n",
      "INFO:tensorflow:step = 13201, loss = 8.32389e+10 (0.186 sec)\n",
      "INFO:tensorflow:global_step/sec: 508.554\n",
      "INFO:tensorflow:step = 13301, loss = 4.54485e+10 (0.196 sec)\n",
      "INFO:tensorflow:global_step/sec: 582.478\n",
      "INFO:tensorflow:step = 13401, loss = 1.86757e+11 (0.175 sec)\n",
      "INFO:tensorflow:global_step/sec: 521.797\n",
      "INFO:tensorflow:step = 13501, loss = 2.36549e+11 (0.191 sec)\n",
      "INFO:tensorflow:global_step/sec: 479.358\n",
      "INFO:tensorflow:step = 13601, loss = 1.28668e+11 (0.207 sec)\n",
      "INFO:tensorflow:global_step/sec: 519.098\n",
      "INFO:tensorflow:step = 13701, loss = 4.30699e+10 (0.193 sec)\n",
      "INFO:tensorflow:global_step/sec: 523.163\n",
      "INFO:tensorflow:step = 13801, loss = 7.88489e+10 (0.192 sec)\n",
      "INFO:tensorflow:global_step/sec: 534.324\n",
      "INFO:tensorflow:step = 13901, loss = 1.36534e+11 (0.187 sec)\n",
      "INFO:tensorflow:global_step/sec: 497.199\n",
      "INFO:tensorflow:step = 14001, loss = 3.01606e+10 (0.203 sec)\n",
      "INFO:tensorflow:global_step/sec: 508.556\n",
      "INFO:tensorflow:step = 14101, loss = 1.19256e+11 (0.194 sec)\n",
      "INFO:tensorflow:global_step/sec: 551.986\n",
      "INFO:tensorflow:step = 14201, loss = 1.10644e+11 (0.180 sec)\n",
      "INFO:tensorflow:global_step/sec: 508.558\n",
      "INFO:tensorflow:step = 14301, loss = 7.54182e+10 (0.198 sec)\n",
      "INFO:tensorflow:global_step/sec: 535.752\n",
      "INFO:tensorflow:step = 14401, loss = 1.48776e+11 (0.188 sec)\n",
      "INFO:tensorflow:global_step/sec: 517.755\n",
      "INFO:tensorflow:step = 14501, loss = 3.12324e+11 (0.194 sec)\n",
      "INFO:tensorflow:global_step/sec: 477.075\n",
      "INFO:tensorflow:step = 14601, loss = 1.60851e+11 (0.208 sec)\n",
      "INFO:tensorflow:global_step/sec: 535.753\n",
      "INFO:tensorflow:step = 14701, loss = 1.14433e+11 (0.188 sec)\n",
      "INFO:tensorflow:global_step/sec: 457.467\n",
      "INFO:tensorflow:step = 14801, loss = 3.54158e+10 (0.219 sec)\n",
      "INFO:tensorflow:global_step/sec: 540.086\n",
      "INFO:tensorflow:step = 14901, loss = 4.14677e+10 (0.184 sec)\n",
      "INFO:tensorflow:global_step/sec: 520.444\n",
      "INFO:tensorflow:step = 15001, loss = 1.41869e+11 (0.192 sec)\n",
      "INFO:tensorflow:global_step/sec: 505.987\n",
      "INFO:tensorflow:step = 15101, loss = 8.14162e+10 (0.198 sec)\n",
      "INFO:tensorflow:global_step/sec: 521.801\n",
      "INFO:tensorflow:step = 15201, loss = 5.36637e+10 (0.191 sec)\n",
      "INFO:tensorflow:global_step/sec: 520.446\n",
      "INFO:tensorflow:step = 15301, loss = 1.01682e+11 (0.192 sec)\n",
      "INFO:tensorflow:global_step/sec: 540.086\n",
      "INFO:tensorflow:step = 15401, loss = 1.77294e+11 (0.186 sec)\n",
      "INFO:tensorflow:global_step/sec: 543.008\n",
      "INFO:tensorflow:step = 15501, loss = 5.07123e+10 (0.183 sec)\n",
      "INFO:tensorflow:global_step/sec: 502.186\n",
      "INFO:tensorflow:step = 15601, loss = 1.44206e+11 (0.200 sec)\n",
      "INFO:tensorflow:global_step/sec: 524.531\n",
      "INFO:tensorflow:step = 15701, loss = 6.52391e+10 (0.191 sec)\n",
      "INFO:tensorflow:global_step/sec: 475.942\n",
      "INFO:tensorflow:step = 15801, loss = 5.03196e+10 (0.210 sec)\n",
      "INFO:tensorflow:global_step/sec: 540.084\n",
      "INFO:tensorflow:step = 15901, loss = 1.32069e+11 (0.186 sec)\n",
      "INFO:tensorflow:global_step/sec: 516.42\n",
      "INFO:tensorflow:step = 16001, loss = 1.10289e+11 (0.193 sec)\n",
      "INFO:tensorflow:global_step/sec: 509.848\n",
      "INFO:tensorflow:step = 16101, loss = 4.43444e+10 (0.195 sec)\n"
     ]
    },
    {
     "name": "stdout",
     "output_type": "stream",
     "text": [
      "INFO:tensorflow:global_step/sec: 532.906\n",
      "INFO:tensorflow:step = 16201, loss = 1.57444e+11 (0.189 sec)\n",
      "INFO:tensorflow:global_step/sec: 543.012\n",
      "INFO:tensorflow:step = 16301, loss = 8.08179e+10 (0.186 sec)\n",
      "INFO:tensorflow:global_step/sec: 500.927\n",
      "INFO:tensorflow:step = 16401, loss = 7.65962e+10 (0.200 sec)\n",
      "INFO:tensorflow:global_step/sec: 543.01\n",
      "INFO:tensorflow:step = 16501, loss = 4.16675e+10 (0.185 sec)\n",
      "INFO:tensorflow:global_step/sec: 548.965\n",
      "INFO:tensorflow:step = 16601, loss = 1.5447e+11 (0.181 sec)\n",
      "INFO:tensorflow:global_step/sec: 459.567\n",
      "INFO:tensorflow:step = 16701, loss = 4.77689e+10 (0.221 sec)\n",
      "INFO:tensorflow:global_step/sec: 409.756\n",
      "INFO:tensorflow:step = 16801, loss = 3.56089e+10 (0.243 sec)\n",
      "INFO:tensorflow:global_step/sec: 483.993\n",
      "INFO:tensorflow:step = 16901, loss = 8.55363e+10 (0.210 sec)\n",
      "INFO:tensorflow:global_step/sec: 461.682\n",
      "INFO:tensorflow:step = 17001, loss = 8.95521e+10 (0.212 sec)\n",
      "INFO:tensorflow:global_step/sec: 463.824\n",
      "INFO:tensorflow:step = 17101, loss = 7.74616e+10 (0.216 sec)\n",
      "INFO:tensorflow:global_step/sec: 452.305\n",
      "INFO:tensorflow:step = 17201, loss = 1.93262e+11 (0.224 sec)\n",
      "INFO:tensorflow:global_step/sec: 582.467\n",
      "INFO:tensorflow:step = 17301, loss = 7.90614e+10 (0.173 sec)\n",
      "INFO:tensorflow:global_step/sec: 525.914\n",
      "INFO:tensorflow:step = 17401, loss = 6.56122e+10 (0.186 sec)\n",
      "INFO:tensorflow:global_step/sec: 499.679\n",
      "INFO:tensorflow:step = 17501, loss = 1.19309e+11 (0.200 sec)\n",
      "INFO:tensorflow:global_step/sec: 512.459\n",
      "INFO:tensorflow:step = 17601, loss = 1.78446e+11 (0.195 sec)\n",
      "INFO:tensorflow:global_step/sec: 485.159\n",
      "INFO:tensorflow:step = 17701, loss = 9.084e+10 (0.207 sec)\n",
      "INFO:tensorflow:global_step/sec: 525.912\n",
      "INFO:tensorflow:step = 17801, loss = 6.67564e+10 (0.190 sec)\n",
      "INFO:tensorflow:global_step/sec: 558.135\n",
      "INFO:tensorflow:step = 17901, loss = 1.55397e+11 (0.182 sec)\n",
      "INFO:tensorflow:global_step/sec: 516.421\n",
      "INFO:tensorflow:step = 18001, loss = 1.16945e+11 (0.192 sec)\n",
      "INFO:tensorflow:global_step/sec: 532.904\n",
      "INFO:tensorflow:step = 18101, loss = 2.08942e+11 (0.187 sec)\n",
      "INFO:tensorflow:global_step/sec: 511.151\n",
      "INFO:tensorflow:step = 18201, loss = 1.25032e+11 (0.197 sec)\n",
      "INFO:tensorflow:global_step/sec: 468.157\n",
      "INFO:tensorflow:step = 18301, loss = 1.03311e+11 (0.218 sec)\n",
      "INFO:tensorflow:global_step/sec: 454.356\n",
      "INFO:tensorflow:step = 18401, loss = 7.89661e+10 (0.215 sec)\n",
      "INFO:tensorflow:global_step/sec: 545.971\n",
      "INFO:tensorflow:step = 18501, loss = 9.18178e+10 (0.189 sec)\n",
      "INFO:tensorflow:global_step/sec: 300.407\n",
      "INFO:tensorflow:step = 18601, loss = 1.37844e+11 (0.332 sec)\n",
      "INFO:tensorflow:global_step/sec: 492.313\n",
      "INFO:tensorflow:step = 18701, loss = 1.98879e+11 (0.199 sec)\n",
      "INFO:tensorflow:global_step/sec: 413.138\n",
      "INFO:tensorflow:step = 18801, loss = 4.74231e+10 (0.250 sec)\n",
      "INFO:tensorflow:global_step/sec: 454.354\n",
      "INFO:tensorflow:step = 18901, loss = 1.2307e+11 (0.214 sec)\n",
      "INFO:tensorflow:global_step/sec: 436.539\n",
      "INFO:tensorflow:step = 19001, loss = 1.0614e+11 (0.229 sec)\n",
      "INFO:tensorflow:global_step/sec: 481.663\n",
      "INFO:tensorflow:step = 19101, loss = 1.00522e+11 (0.209 sec)\n",
      "INFO:tensorflow:global_step/sec: 425.416\n",
      "INFO:tensorflow:step = 19201, loss = 5.72888e+10 (0.234 sec)\n",
      "INFO:tensorflow:global_step/sec: 524.532\n",
      "INFO:tensorflow:step = 19301, loss = 1.06405e+11 (0.189 sec)\n",
      "INFO:tensorflow:global_step/sec: 505.988\n",
      "INFO:tensorflow:step = 19401, loss = 8.36588e+10 (0.197 sec)\n",
      "INFO:tensorflow:global_step/sec: 485.162\n",
      "INFO:tensorflow:step = 19501, loss = 5.68563e+10 (0.206 sec)\n",
      "INFO:tensorflow:global_step/sec: 556.585\n",
      "INFO:tensorflow:step = 19601, loss = 6.45943e+10 (0.182 sec)\n",
      "INFO:tensorflow:global_step/sec: 414.843\n",
      "INFO:tensorflow:step = 19701, loss = 3.85647e+10 (0.240 sec)\n",
      "INFO:tensorflow:global_step/sec: 543.02\n",
      "INFO:tensorflow:step = 19801, loss = 8.55462e+10 (0.183 sec)\n",
      "INFO:tensorflow:global_step/sec: 548.962\n",
      "INFO:tensorflow:step = 19901, loss = 2.94793e+10 (0.185 sec)\n",
      "INFO:tensorflow:global_step/sec: 491.106\n",
      "INFO:tensorflow:step = 20001, loss = 6.36546e+10 (0.202 sec)\n",
      "INFO:tensorflow:global_step/sec: 553.511\n",
      "INFO:tensorflow:step = 20101, loss = 2.66416e+10 (0.183 sec)\n",
      "INFO:tensorflow:global_step/sec: 508.556\n",
      "INFO:tensorflow:step = 20201, loss = 1.6803e+11 (0.194 sec)\n",
      "INFO:tensorflow:global_step/sec: 469.254\n",
      "INFO:tensorflow:step = 20301, loss = 1.45217e+11 (0.214 sec)\n",
      "INFO:tensorflow:global_step/sec: 497.201\n",
      "INFO:tensorflow:step = 20401, loss = 9.85784e+10 (0.201 sec)\n",
      "INFO:tensorflow:global_step/sec: 487.522\n",
      "INFO:tensorflow:step = 20501, loss = 3.60671e+10 (0.207 sec)\n",
      "INFO:tensorflow:global_step/sec: 538.631\n",
      "INFO:tensorflow:step = 20601, loss = 5.6741e+10 (0.183 sec)\n",
      "INFO:tensorflow:global_step/sec: 545.971\n",
      "INFO:tensorflow:step = 20701, loss = 4.29794e+10 (0.186 sec)\n",
      "INFO:tensorflow:global_step/sec: 527.292\n",
      "INFO:tensorflow:step = 20801, loss = 8.46512e+10 (0.188 sec)\n",
      "INFO:tensorflow:global_step/sec: 543.015\n",
      "INFO:tensorflow:step = 20901, loss = 4.6469e+10 (0.183 sec)\n",
      "INFO:tensorflow:global_step/sec: 531.489\n",
      "INFO:tensorflow:step = 21001, loss = 1.02813e+11 (0.192 sec)\n",
      "INFO:tensorflow:global_step/sec: 511.149\n",
      "INFO:tensorflow:step = 21101, loss = 2.46227e+10 (0.192 sec)\n",
      "INFO:tensorflow:global_step/sec: 487.523\n",
      "INFO:tensorflow:step = 21201, loss = 8.15859e+10 (0.205 sec)\n",
      "INFO:tensorflow:global_step/sec: 543.008\n",
      "INFO:tensorflow:step = 21301, loss = 1.20745e+11 (0.184 sec)\n",
      "INFO:tensorflow:global_step/sec: 425.418\n",
      "INFO:tensorflow:step = 21401, loss = 5.652e+10 (0.237 sec)\n",
      "INFO:tensorflow:global_step/sec: 521.8\n",
      "INFO:tensorflow:step = 21501, loss = 7.56903e+10 (0.191 sec)\n",
      "INFO:tensorflow:global_step/sec: 541.543\n",
      "INFO:tensorflow:step = 21601, loss = 6.02825e+10 (0.183 sec)\n",
      "INFO:tensorflow:global_step/sec: 502.182\n",
      "INFO:tensorflow:step = 21701, loss = 5.74782e+10 (0.199 sec)\n",
      "INFO:tensorflow:global_step/sec: 550.471\n",
      "INFO:tensorflow:step = 21801, loss = 1.2173e+11 (0.184 sec)\n",
      "INFO:tensorflow:global_step/sec: 538.635\n",
      "INFO:tensorflow:step = 21901, loss = 1.26562e+11 (0.185 sec)\n",
      "INFO:tensorflow:global_step/sec: 509.845\n",
      "INFO:tensorflow:step = 22001, loss = 1.08893e+11 (0.196 sec)\n",
      "INFO:tensorflow:global_step/sec: 521.806\n",
      "INFO:tensorflow:step = 22101, loss = 5.31408e+10 (0.192 sec)\n",
      "INFO:tensorflow:global_step/sec: 531.489\n",
      "INFO:tensorflow:step = 22201, loss = 4.99702e+10 (0.191 sec)\n",
      "INFO:tensorflow:global_step/sec: 485.16\n",
      "INFO:tensorflow:step = 22301, loss = 1.08827e+11 (0.205 sec)\n",
      "INFO:tensorflow:global_step/sec: 521.802\n",
      "INFO:tensorflow:step = 22401, loss = 9.57383e+10 (0.190 sec)\n",
      "INFO:tensorflow:global_step/sec: 541.544\n",
      "INFO:tensorflow:step = 22501, loss = 8.03187e+10 (0.185 sec)\n",
      "INFO:tensorflow:global_step/sec: 528.685\n",
      "INFO:tensorflow:step = 22601, loss = 6.22523e+10 (0.190 sec)\n",
      "INFO:tensorflow:global_step/sec: 443.298\n",
      "INFO:tensorflow:step = 22701, loss = 5.50024e+10 (0.226 sec)\n",
      "INFO:tensorflow:global_step/sec: 575.78\n",
      "INFO:tensorflow:step = 22801, loss = 4.41639e+10 (0.174 sec)\n",
      "INFO:tensorflow:global_step/sec: 479.357\n",
      "INFO:tensorflow:step = 22901, loss = 8.54744e+10 (0.207 sec)\n",
      "INFO:tensorflow:global_step/sec: 485.16\n",
      "INFO:tensorflow:step = 23001, loss = 4.58642e+10 (0.206 sec)\n",
      "INFO:tensorflow:global_step/sec: 516.42\n",
      "INFO:tensorflow:step = 23101, loss = 4.35748e+10 (0.201 sec)\n",
      "INFO:tensorflow:global_step/sec: 297.729\n",
      "INFO:tensorflow:step = 23201, loss = 8.72032e+10 (0.335 sec)\n",
      "INFO:tensorflow:global_step/sec: 346.065\n",
      "INFO:tensorflow:step = 23301, loss = 5.1796e+10 (0.285 sec)\n",
      "INFO:tensorflow:global_step/sec: 289.136\n",
      "INFO:tensorflow:step = 23401, loss = 1.46438e+11 (0.351 sec)\n",
      "INFO:tensorflow:global_step/sec: 374.525\n",
      "INFO:tensorflow:step = 23501, loss = 1.13593e+11 (0.259 sec)\n",
      "INFO:tensorflow:global_step/sec: 350.292\n",
      "INFO:tensorflow:step = 23601, loss = 8.59309e+10 (0.288 sec)\n",
      "INFO:tensorflow:global_step/sec: 315.551\n",
      "INFO:tensorflow:step = 23701, loss = 1.13379e+11 (0.322 sec)\n",
      "INFO:tensorflow:global_step/sec: 383.12\n",
      "INFO:tensorflow:step = 23801, loss = 1.07509e+11 (0.255 sec)\n",
      "INFO:tensorflow:global_step/sec: 513.773\n",
      "INFO:tensorflow:step = 23901, loss = 5.32827e+10 (0.194 sec)\n",
      "INFO:tensorflow:global_step/sec: 511.15\n",
      "INFO:tensorflow:step = 24001, loss = 1.42488e+11 (0.197 sec)\n",
      "INFO:tensorflow:global_step/sec: 538.631\n",
      "INFO:tensorflow:step = 24101, loss = 1.7854e+11 (0.188 sec)\n",
      "INFO:tensorflow:global_step/sec: 499.679\n",
      "INFO:tensorflow:step = 24201, loss = 1.31193e+11 (0.196 sec)\n"
     ]
    },
    {
     "name": "stdout",
     "output_type": "stream",
     "text": [
      "INFO:tensorflow:global_step/sec: 304.516\n",
      "INFO:tensorflow:step = 24301, loss = 1.08646e+11 (0.331 sec)\n",
      "INFO:tensorflow:global_step/sec: 524.529\n",
      "INFO:tensorflow:step = 24401, loss = 8.17727e+10 (0.188 sec)\n",
      "INFO:tensorflow:global_step/sec: 547.466\n",
      "INFO:tensorflow:step = 24501, loss = 7.86331e+10 (0.184 sec)\n",
      "INFO:tensorflow:global_step/sec: 509.852\n",
      "INFO:tensorflow:step = 24601, loss = 2.83279e+10 (0.196 sec)\n",
      "INFO:tensorflow:global_step/sec: 386.071\n",
      "INFO:tensorflow:step = 24701, loss = 4.14735e+10 (0.265 sec)\n",
      "INFO:tensorflow:global_step/sec: 409.757\n",
      "INFO:tensorflow:step = 24801, loss = 4.5321e+10 (0.239 sec)\n",
      "INFO:tensorflow:global_step/sec: 480.506\n",
      "INFO:tensorflow:step = 24901, loss = 4.48969e+10 (0.211 sec)\n",
      "INFO:tensorflow:Saving checkpoints for 25000 into C:\\Users\\motos\\AppData\\Local\\Temp\\tmp92jcktzl\\model.ckpt.\n",
      "INFO:tensorflow:Loss for final step: 4.75576e+10.\n"
     ]
    },
    {
     "data": {
      "text/plain": [
       "<tensorflow.python.estimator.canned.dnn.DNNRegressor at 0x1ec7882e6d8>"
      ]
     },
     "execution_count": 20,
     "metadata": {},
     "output_type": "execute_result"
    }
   ],
   "source": [
    "model.train(input_fn=input_func,steps=25000)"
   ]
  },
  {
   "cell_type": "markdown",
   "metadata": {},
   "source": [
    "** Create a prediction input function and then use the .predict method off your estimator model to create a list or predictions on your test data. **"
   ]
  },
  {
   "cell_type": "code",
   "execution_count": 21,
   "metadata": {
    "collapsed": true
   },
   "outputs": [],
   "source": [
    "predict_input_func = tf.estimator.inputs.pandas_input_fn(\n",
    "      x=X_test,\n",
    "      batch_size=10,\n",
    "      num_epochs=1,\n",
    "      shuffle=False)"
   ]
  },
  {
   "cell_type": "code",
   "execution_count": 22,
   "metadata": {
    "collapsed": true
   },
   "outputs": [],
   "source": [
    "pred_gen = model.predict(predict_input_func)"
   ]
  },
  {
   "cell_type": "code",
   "execution_count": 23,
   "metadata": {},
   "outputs": [
    {
     "name": "stdout",
     "output_type": "stream",
     "text": [
      "INFO:tensorflow:Restoring parameters from C:\\Users\\motos\\AppData\\Local\\Temp\\tmp92jcktzl\\model.ckpt-25000\n"
     ]
    }
   ],
   "source": [
    "predictions = list(pred_gen)"
   ]
  },
  {
   "cell_type": "markdown",
   "metadata": {},
   "source": [
    "** Calculate the RMSE. Do this manually or use [sklearn.metrics](http://scikit-learn.org/stable/modules/generated/sklearn.metrics.mean_squared_error.html) **"
   ]
  },
  {
   "cell_type": "code",
   "execution_count": 24,
   "metadata": {
    "collapsed": true
   },
   "outputs": [],
   "source": [
    "final_preds = []\n",
    "for pred in predictions:\n",
    "    final_preds.append(pred['predictions'])"
   ]
  },
  {
   "cell_type": "code",
   "execution_count": 25,
   "metadata": {
    "collapsed": true
   },
   "outputs": [],
   "source": [
    "from sklearn.metrics import mean_squared_error"
   ]
  },
  {
   "cell_type": "code",
   "execution_count": 26,
   "metadata": {},
   "outputs": [
    {
     "data": {
      "text/plain": [
       "97776.464465122641"
      ]
     },
     "execution_count": 26,
     "metadata": {},
     "output_type": "execute_result"
    }
   ],
   "source": [
    "mean_squared_error(y_test,final_preds)**0.5"
   ]
  },
  {
   "cell_type": "markdown",
   "metadata": {},
   "source": [
    "# Great Job!"
   ]
  },
  {
   "cell_type": "code",
   "execution_count": null,
   "metadata": {
    "collapsed": true
   },
   "outputs": [],
   "source": []
  },
  {
   "cell_type": "code",
   "execution_count": null,
   "metadata": {
    "collapsed": true
   },
   "outputs": [],
   "source": []
  },
  {
   "cell_type": "code",
   "execution_count": null,
   "metadata": {
    "collapsed": true
   },
   "outputs": [],
   "source": []
  },
  {
   "cell_type": "code",
   "execution_count": null,
   "metadata": {
    "collapsed": true
   },
   "outputs": [],
   "source": []
  },
  {
   "cell_type": "code",
   "execution_count": null,
   "metadata": {
    "collapsed": true
   },
   "outputs": [],
   "source": []
  },
  {
   "cell_type": "code",
   "execution_count": null,
   "metadata": {
    "collapsed": true
   },
   "outputs": [],
   "source": []
  },
  {
   "cell_type": "code",
   "execution_count": null,
   "metadata": {
    "collapsed": true
   },
   "outputs": [],
   "source": []
  },
  {
   "cell_type": "code",
   "execution_count": null,
   "metadata": {
    "collapsed": true
   },
   "outputs": [],
   "source": []
  },
  {
   "cell_type": "code",
   "execution_count": null,
   "metadata": {
    "collapsed": true
   },
   "outputs": [],
   "source": []
  },
  {
   "cell_type": "code",
   "execution_count": null,
   "metadata": {
    "collapsed": true
   },
   "outputs": [],
   "source": []
  },
  {
   "cell_type": "code",
   "execution_count": null,
   "metadata": {
    "collapsed": true
   },
   "outputs": [],
   "source": []
  }
 ],
 "metadata": {
  "kernelspec": {
   "display_name": "Python 3",
   "language": "python",
   "name": "python3"
  },
  "language_info": {
   "codemirror_mode": {
    "name": "ipython",
    "version": 3
   },
   "file_extension": ".py",
   "mimetype": "text/x-python",
   "name": "python",
   "nbconvert_exporter": "python",
   "pygments_lexer": "ipython3",
   "version": "3.5.4"
  }
 },
 "nbformat": 4,
 "nbformat_minor": 2
}
